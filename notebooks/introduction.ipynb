{
 "cells": [
  {
   "cell_type": "markdown",
   "metadata": {},
   "source": [
    "# Introduction"
   ]
  },
  {
   "cell_type": "markdown",
   "metadata": {},
   "source": [
    "For a start, consider the documentation folder of the nbsphinx-link repository. This documentation page itself comes from a linked notebook:"
   ]
  },
  {
   "cell_type": "code",
   "execution_count": 1,
   "metadata": {},
   "outputs": [
    {
     "name": "stdout",
     "output_type": "stream",
     "text": [
      "foobar\n"
     ]
    }
   ],
   "source": [
    "def foo(a):\n",
    "    return 'foo' + a\n",
    "\n",
    "print(foo('bar'))"
   ]
  },
  {
   "cell_type": "markdown",
   "metadata": {},
   "source": [
    "After the installation steps (installing the package, and adding `nbsphinx_link` as an extension in the Sphinx config), you can link external notebooks by including `.nblink` files in your documentation source tree. The format of the link file is as follows:\n",
    "\n",
    "```json\n",
    "{\n",
    "    \"path\": \"relative/path/to/notebook\"\n",
    "}\n",
    "```"
   ]
  },
  {
   "cell_type": "markdown",
   "metadata": {},
   "source": [
    "It should then Just Work. For further information and examples, consider inspecting the Sphinx config file of the nbsphinx-link repository!"
   ]
  },
  {
   "cell_type": "markdown",
   "metadata": {},
   "source": [
    "## Image including example\n",
    "Look at this happy smile, because the notebook made it in the docs.\n",
    "\n",
    "### Image path next to notebook\n",
    "![python logo 1](smile.png)\n",
    "\n",
    "### Image path in subdirectory notebook\n",
    "![python logo 2](images/smile.png)\n",
    "\n",
    "### Image path in sub-subdirectory notebook\n",
    "![python logo 3](images/subsubdir/smile.png)"
   ]
  },
  {
   "cell_type": "code",
   "execution_count": null,
   "metadata": {},
   "outputs": [],
   "source": []
  }
 ],
 "metadata": {
  "kernelspec": {
   "display_name": "Python 3",
   "language": "python",
   "name": "python3"
  },
  "language_info": {
   "codemirror_mode": {
    "name": "ipython",
    "version": 3
   },
   "file_extension": ".py",
   "mimetype": "text/x-python",
   "name": "python",
   "nbconvert_exporter": "python",
   "pygments_lexer": "ipython3",
   "version": "3.7.3"
  }
 },
 "nbformat": 4,
 "nbformat_minor": 4
}
